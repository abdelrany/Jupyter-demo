{
 "cells": [
  {
   "cell_type": "code",
   "execution_count": null,
   "metadata": {},
   "outputs": [],
   "source": [
    "duplicate_list = ['Kerala','Delhi','Rajasthan','Uttar Pradesh','Haryana','Ladakh','Tamil Nadu','Karnataka','Maharashtra','Punjab','Jammu and Kashmir','Andhra Pradesh','Uttarakhand','Odisha','Puducherry','West Bengal',\n",
    "'Chhattisgarh','Chandigarh','Gujarat','Himachal Pradesh','Madhya Pradesh','Bihar','Manipur','Mizoram','Andaman and Nicobar Islands','Goa','Assam','Jharkhand','Arunachal Pradesh','Tripura','Nagaland','Meghalaya',\n",
    "'Dadra and Nagar Haveli and Daman and Diu','Sikkim','Lakshadweep','Telangana']"
   ]
  }
 ],
 "metadata": {
  "kernelspec": {
   "display_name": "Python 3 (ipykernel)",
   "language": "python",
   "name": "python3"
  },
  "language_info": {
   "codemirror_mode": {
    "name": "ipython",
    "version": 3
   },
   "file_extension": ".py",
   "mimetype": "text/x-python",
   "name": "python",
   "nbconvert_exporter": "python",
   "pygments_lexer": "ipython3",
   "version": "3.9.12"
  }
 },
 "nbformat": 4,
 "nbformat_minor": 2
}
